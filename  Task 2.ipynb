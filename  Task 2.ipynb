{
 "cells": [
  {
   "cell_type": "markdown",
   "id": "5cad5b36",
   "metadata": {},
   "source": [
    "## Write a lambda expression to extract first word of a string."
   ]
  },
  {
   "cell_type": "code",
   "execution_count": 3,
   "id": "cf0620bb",
   "metadata": {},
   "outputs": [
    {
     "data": {
      "text/plain": [
       "'Hello'"
      ]
     },
     "execution_count": 3,
     "metadata": {},
     "output_type": "execute_result"
    }
   ],
   "source": [
    "a = 'Hello World'\n",
    "b = lambda str: str.split()[0]\n",
    "b(a)"
   ]
  },
  {
   "cell_type": "markdown",
   "id": "7c2d5b9b",
   "metadata": {},
   "source": [
    "## Write a function to extract first word of s string (with many words separated by space)."
   ]
  },
  {
   "cell_type": "code",
   "execution_count": 4,
   "id": "d94b2641",
   "metadata": {},
   "outputs": [
    {
     "name": "stdout",
     "output_type": "stream",
     "text": [
      "Hello\n"
     ]
    }
   ],
   "source": [
    "def f_name(str):\n",
    "    return str.split()[0]\n",
    "\n",
    "print(f_name(a))"
   ]
  },
  {
   "cell_type": "markdown",
   "id": "11411320",
   "metadata": {},
   "source": [
    "## Extract the first word from every string from a list of strings by using map function."
   ]
  },
  {
   "cell_type": "code",
   "execution_count": 5,
   "id": "7b1ce816",
   "metadata": {},
   "outputs": [
    {
     "data": {
      "text/plain": [
       "['CS', 'Read', 'GTA', 'Rainbox']"
      ]
     },
     "execution_count": 5,
     "metadata": {},
     "output_type": "execute_result"
    }
   ],
   "source": [
    "g = ['CS GO', 'Read Dead Redemption', 'GTA 5', 'Rainbox six']\n",
    "list(map(lambda s: s.split()[0], g))"
   ]
  },
  {
   "cell_type": "markdown",
   "id": "16a20517",
   "metadata": {},
   "source": [
    "## Write a function to return a list of prime factors of a given number."
   ]
  },
  {
   "cell_type": "code",
   "execution_count": 6,
   "id": "bb451531",
   "metadata": {},
   "outputs": [
    {
     "name": "stdout",
     "output_type": "stream",
     "text": [
      "Enter the number: 21\n",
      "[3, 7]\n"
     ]
    }
   ],
   "source": [
    "def prime(x):\n",
    "    factors = []\n",
    "    divisor = 2\n",
    "    while divisor <= x:\n",
    "        if x%divisor == 0:\n",
    "            factors.append(divisor)\n",
    "            x = x/divisor \n",
    "        else:\n",
    "            divisor += 1 \n",
    "    return factors\n",
    "\n",
    "num = input('Enter the number: ')\n",
    "print(prime(int(num)))\n"
   ]
  },
  {
   "cell_type": "markdown",
   "id": "b590a6e6",
   "metadata": {},
   "source": [
    "## Write a function that finds 2nd largest among 4 numbers (Repetitions are allowed,\n",
    "## without sorting)."
   ]
  },
  {
   "cell_type": "code",
   "execution_count": 7,
   "id": "07b2055f",
   "metadata": {},
   "outputs": [
    {
     "name": "stdout",
     "output_type": "stream",
     "text": [
      "5 9 6 8 2\n",
      "8\n"
     ]
    }
   ],
   "source": [
    "a = list(map(int,input().strip().split()))[:4]\n",
    "new_list = set(a)\n",
    "new_list.remove(max(new_list))\n",
    "print(max(new_list))"
   ]
  },
  {
   "cell_type": "code",
   "execution_count": null,
   "id": "f4a33703",
   "metadata": {},
   "outputs": [],
   "source": []
  }
 ],
 "metadata": {
  "kernelspec": {
   "display_name": "Python 3",
   "language": "python",
   "name": "python3"
  },
  "language_info": {
   "codemirror_mode": {
    "name": "ipython",
    "version": 3
   },
   "file_extension": ".py",
   "mimetype": "text/x-python",
   "name": "python",
   "nbconvert_exporter": "python",
   "pygments_lexer": "ipython3",
   "version": "3.8.8"
  }
 },
 "nbformat": 4,
 "nbformat_minor": 5
}
